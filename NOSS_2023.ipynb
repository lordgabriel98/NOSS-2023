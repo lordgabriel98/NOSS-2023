{
 "cells": [
  {
   "cell_type": "markdown",
   "id": "02de66eb",
   "metadata": {},
   "source": [
    "### NOSS Selection for 2024 Academic year"
   ]
  },
  {
   "cell_type": "code",
   "execution_count": 42,
   "id": "e8dca183",
   "metadata": {},
   "outputs": [],
   "source": [
    "# Data Analysis by Gabriel Baje\n",
    "# Commenced on 9/1/2024"
   ]
  },
  {
   "cell_type": "markdown",
   "id": "ce0babe6",
   "metadata": {},
   "source": [
    "###### There are 10007 records for the dataset\n",
    "\n",
    "###### The dataset includes the following columns:\n",
    "\n",
    "- **INSTITUTION**: The name of the institution the candidate was selected to by NOSS\n",
    "- **PROGRAMME**: The program in that institution the candidate was selected to.\n",
    "- **SLF**: Candidates school leaver form SLF number\n",
    "- **SURNAME**: Surname of candidate\n",
    "- **FIRSTNAME**: First name of candidate\n",
    "- **GENDER**: Sex of the candidate\n",
    "- **SCHOOL**: School which candidate attended"
   ]
  },
  {
   "cell_type": "code",
   "execution_count": 1,
   "id": "13249c99",
   "metadata": {},
   "outputs": [],
   "source": [
    "# packages for houusing data\n",
    "import pandas as pd\n",
    "import numpy as np\n",
    "# packages for data visualization\n",
    "import matplotlib.pyplot as plt\n",
    "import seaborn as sns"
   ]
  },
  {
   "cell_type": "code",
   "execution_count": 2,
   "id": "158c57f9",
   "metadata": {},
   "outputs": [],
   "source": [
    "# importing the .xlsx file as a pandas dataframe\n",
    "noss = pd.read_excel('NOSS_2023_Results_for_Publication.xlsx')"
   ]
  },
  {
   "cell_type": "code",
   "execution_count": 3,
   "id": "deee9f7b",
   "metadata": {
    "scrolled": true
   },
   "outputs": [
    {
     "data": {
      "text/plain": [
       "INSTITUTION               object\n",
       "PROGRAMME                 object\n",
       "Unnamed: 2                object\n",
       "SLF                      float64\n",
       "SURNAME     FIRSTNAME     object\n",
       "Unnamed: 5                object\n",
       "GENDER                    object\n",
       "SCHOOL                    object\n",
       "dtype: object"
      ]
     },
     "execution_count": 3,
     "metadata": {},
     "output_type": "execute_result"
    }
   ],
   "source": [
    "# data types of the different columns\n",
    "noss.dtypes"
   ]
  },
  {
   "cell_type": "markdown",
   "id": "aafa2f7d",
   "metadata": {},
   "source": [
    "### Data Cleaning"
   ]
  },
  {
   "cell_type": "code",
   "execution_count": 4,
   "id": "d24e0ec8",
   "metadata": {},
   "outputs": [
    {
     "data": {
      "text/plain": [
       "INSTITUTION                 0\n",
       "PROGRAMME                 372\n",
       "Unnamed: 2               9697\n",
       "SLF                       124\n",
       "SURNAME     FIRSTNAME      62\n",
       "Unnamed: 5               1239\n",
       "GENDER                   1488\n",
       "SCHOOL                      0\n",
       "dtype: int64"
      ]
     },
     "execution_count": 4,
     "metadata": {},
     "output_type": "execute_result"
    }
   ],
   "source": [
    "# checking all columns for null values\n",
    "noss.isna().sum()"
   ]
  },
  {
   "cell_type": "code",
   "execution_count": 5,
   "id": "1a3e70c7",
   "metadata": {},
   "outputs": [],
   "source": [
    "# creating a variable to serve as a threshold for null values in a column\n",
    "threshold =len(noss) * 0.05"
   ]
  },
  {
   "cell_type": "code",
   "execution_count": 6,
   "id": "64824fdb",
   "metadata": {},
   "outputs": [
    {
     "data": {
      "text/plain": [
       "INSTITUTION               True\n",
       "PROGRAMME                 True\n",
       "Unnamed: 2               False\n",
       "SLF                       True\n",
       "SURNAME     FIRSTNAME     True\n",
       "Unnamed: 5               False\n",
       "GENDER                   False\n",
       "SCHOOL                    True\n",
       "dtype: bool"
      ]
     },
     "execution_count": 6,
     "metadata": {},
     "output_type": "execute_result"
    }
   ],
   "source": [
    "# see which columns are less than the threshold, then these columns will have its null values removed from dataset\n",
    "noss.isna().sum() < threshold"
   ]
  },
  {
   "cell_type": "code",
   "execution_count": 7,
   "id": "6dd534a2",
   "metadata": {},
   "outputs": [],
   "source": [
    "# dropping records with null values\n",
    "noss.dropna(subset = ['INSTITUTION', 'PROGRAMME', 'SLF', 'SURNAME     FIRSTNAME', 'SCHOOL'],inplace=True)"
   ]
  },
  {
   "cell_type": "code",
   "execution_count": 8,
   "id": "d951c801",
   "metadata": {},
   "outputs": [
    {
     "data": {
      "text/plain": [
       "INSTITUTION                 0\n",
       "PROGRAMME                   0\n",
       "Unnamed: 2               9201\n",
       "SLF                         0\n",
       "SURNAME     FIRSTNAME       0\n",
       "Unnamed: 5                929\n",
       "GENDER                   1054\n",
       "SCHOOL                      0\n",
       "dtype: int64"
      ]
     },
     "execution_count": 8,
     "metadata": {},
     "output_type": "execute_result"
    }
   ],
   "source": [
    "# now we see that those columns have zero null values\n",
    "noss.isna().sum()"
   ]
  },
  {
   "cell_type": "code",
   "execution_count": 9,
   "id": "5950323c",
   "metadata": {},
   "outputs": [],
   "source": [
    "# creating a function to take the last letter of the 'surname firstname' column and inserting it as the gender because the dataset is messy\n",
    "def gender_change(x):\n",
    "    \n",
    "    if pd.isnull(x['GENDER']):\n",
    "        return x['SURNAME     FIRSTNAME'][-1]\n",
    "    else:\n",
    "        return x['GENDER']\n",
    "        "
   ]
  },
  {
   "cell_type": "code",
   "execution_count": 10,
   "id": "0a44708e",
   "metadata": {},
   "outputs": [],
   "source": [
    "# Adding the gender to the null values in the GENDER column\n",
    "noss['GENDER'] = noss.apply(gender_change, axis=1)"
   ]
  },
  {
   "cell_type": "code",
   "execution_count": null,
   "id": "6bd4708e",
   "metadata": {},
   "outputs": [],
   "source": [
    "# These two columns (\"Unnamed: 2\" and \"Unnamed: 5\") do not hold any significant data and are errors, so they are removed.\n",
    "noss.drop(columns=['Unnamed: 2', 'Unnamed: 5'], inplace=True)"
   ]
  },
  {
   "cell_type": "code",
   "execution_count": 14,
   "id": "b2706a74",
   "metadata": {},
   "outputs": [
    {
     "data": {
      "text/plain": [
       "Index(['INSTITUTION', 'PROGRAMME', 'SLF', 'SURNAME     FIRSTNAME', 'GENDER',\n",
       "       'SCHOOL'],\n",
       "      dtype='object')"
      ]
     },
     "execution_count": 14,
     "metadata": {},
     "output_type": "execute_result"
    }
   ],
   "source": [
    "# Checking the columns of the dataframe \n",
    "noss.columns"
   ]
  },
  {
   "cell_type": "code",
   "execution_count": 15,
   "id": "9f4ab1dc",
   "metadata": {},
   "outputs": [],
   "source": [
    "# Creating a column to specify whether the institution is a university or not\n",
    "noss['University'] = noss['INSTITUTION'].apply(lambda x: True if 'university' in x.lower() else False)"
   ]
  },
  {
   "cell_type": "markdown",
   "id": "f3466c62",
   "metadata": {},
   "source": [
    "### Data Analysis"
   ]
  },
  {
   "cell_type": "code",
   "execution_count": 16,
   "id": "97eedf95",
   "metadata": {},
   "outputs": [
    {
     "data": {
      "text/plain": [
       "International Training Institute - Port Mo    956\n",
       "International Training Institute - Lae Ca     900\n",
       "University of Papua New Guinea                842\n",
       "Papua New Guinea University of Techn          767\n",
       "University of Goroka                          666\n",
       "Datec Learning Center - Port Moresby          523\n",
       "IBSUniversity                                 489\n",
       "Acatech Aviation College                      440\n",
       "Divine Word University - Madang camp          315\n",
       "Don Bosco Technological Institute - DB        302\n",
       "Madang Technical College                      243\n",
       "Don Bosco Simbu Technical College             227\n",
       "Sonoma Adventist College                      226\n",
       "Pacific Adventist University                  222\n",
       "Goroka Technical College                      210\n",
       "National Polytechnic Institute of PNG         191\n",
       "Port Moresby Technical College                174\n",
       "PNG University of Natural Resources a         161\n",
       "Mount Hagen Technical College                 160\n",
       "Kokopo Business College                       155\n",
       "Holy Trinity Teachers College                 150\n",
       "Divine Word University - Wewak Camp           120\n",
       "Southern Cross University                      90\n",
       "University of Goroka - Bainik-MaprikCa         75\n",
       "Western Pacific University                     67\n",
       "Innovative University of Enga - Faculty        65\n",
       "West New Britain Technical College             62\n",
       "Divine Word University - Rabaul Campu          60\n",
       "Sacred Heart Teachers College, Boma            60\n",
       "Highlands Agriculture College                  60\n",
       "Madang Teachers College                        58\n",
       "Aiyura AES                                     50\n",
       "Gaulim Teachers College                        44\n",
       "PNG University of Technology - TFTC (          37\n",
       "Port Moresby Business College                  37\n",
       "Caritas Business College                       35\n",
       "Southern Highlands Teachers College            34\n",
       "Kundiawa School  of Nursing                    30\n",
       "Lae School of Nursing                          30\n",
       "St. Peter Chanel Catholic College of Se        27\n",
       "Highlands Regional School of Nursing           25\n",
       "West New Britain School of Nursing             23\n",
       "Simbu Teachers College                         23\n",
       "Bouganville Technical College                  22\n",
       "Lutheran School of Nursing                     18\n",
       "Nazarene School of Nursing                     15\n",
       "Dauli College of Higher Education              11\n",
       "Arawa School of Nusing                         10\n",
       "Melanesian Nazarene Teachers Colleg             3\n",
       "Sacred Heart School of Nursing, Lemak           1\n",
       "Name: INSTITUTION, dtype: int64"
      ]
     },
     "execution_count": 16,
     "metadata": {},
     "output_type": "execute_result"
    }
   ],
   "source": [
    "# Counting the number of students selected for each institution in the dataframe\n",
    "noss['INSTITUTION'].value_counts()"
   ]
  },
  {
   "cell_type": "code",
   "execution_count": 20,
   "id": "8347d745",
   "metadata": {},
   "outputs": [],
   "source": [
    "# creating a list of the top five universities in PNG\n",
    "top_5 = ['University of Papua New Guinea', 'Papua New Guinea University of Techn','University of Goroka', 'Divine Word University - Madang camp', 'Pacific Adventist University']"
   ]
  },
  {
   "cell_type": "code",
   "execution_count": 21,
   "id": "5d2308c7",
   "metadata": {},
   "outputs": [],
   "source": [
    "# the data in terms of gender is still messy, so this will filter only the rows with 'M' or 'F'\n",
    "condition = noss['GENDER'].isin(['M', 'F'])"
   ]
  },
  {
   "cell_type": "code",
   "execution_count": 22,
   "id": "bdf6f4a7",
   "metadata": {},
   "outputs": [],
   "source": [
    "noss = noss[condition]"
   ]
  },
  {
   "cell_type": "code",
   "execution_count": 23,
   "id": "941ef5be",
   "metadata": {},
   "outputs": [],
   "source": [
    "# subsetting the dataframe to have only rows for the top five universities in PNG\n",
    "noss_by_uni = noss[noss['INSTITUTION'].isin(top_5)]"
   ]
  },
  {
   "cell_type": "code",
   "execution_count": 24,
   "id": "4771b8d4",
   "metadata": {},
   "outputs": [
    {
     "data": {
      "text/plain": [
       "University of Papua New Guinea          842\n",
       "Papua New Guinea University of Techn    767\n",
       "University of Goroka                    543\n",
       "Divine Word University - Madang camp    315\n",
       "Pacific Adventist University            222\n",
       "Name: INSTITUTION, dtype: int64"
      ]
     },
     "execution_count": 24,
     "metadata": {},
     "output_type": "execute_result"
    }
   ],
   "source": [
    "# the number of students selected to the top five universities\n",
    "noss_by_uni['INSTITUTION'].value_counts()"
   ]
  },
  {
   "cell_type": "code",
   "execution_count": 213,
   "id": "0e316699",
   "metadata": {},
   "outputs": [
    {
     "data": {
      "text/plain": [
       "9207"
      ]
     },
     "execution_count": 213,
     "metadata": {},
     "output_type": "execute_result"
    }
   ],
   "source": [
    "#The number of records in the dataset after cleaning\n",
    "len(noss)"
   ]
  },
  {
   "cell_type": "code",
   "execution_count": 25,
   "id": "a465958f",
   "metadata": {
    "scrolled": true
   },
   "outputs": [
    {
     "name": "stdout",
     "output_type": "stream",
     "text": [
      "M    0.547192\n",
      "F    0.452808\n",
      "Name: GENDER, dtype: float64\n"
     ]
    },
    {
     "data": {
      "text/plain": [
       "Text(0.5, 1.0, 'Gender distribution in the NOSS selection data')"
      ]
     },
     "execution_count": 25,
     "metadata": {},
     "output_type": "execute_result"
    },
    {
     "data": {
      "image/png": "[encoded data removed]",
      "text/plain": [
       "<Figure size 432x288 with 1 Axes>"
      ]
     },
     "metadata": {
      "needs_background": "light"
     },
     "output_type": "display_data"
    }
   ],
   "source": [
    "print(noss['GENDER'].value_counts(normalize=True))\n",
    "\n",
    "sns.countplot(x=noss['GENDER'], palette= 'plasma')\n",
    "plt.title('Gender distribution in the NOSS selection data')"
   ]
  },
  {
   "cell_type": "code",
   "execution_count": 26,
   "id": "fc39e8d8",
   "metadata": {},
   "outputs": [
    {
     "data": {
      "text/plain": [
       "International Training Institute - Port Mo    10.38\n",
       "International Training Institute - Lae Ca      9.78\n",
       "University of Papua New Guinea                 9.15\n",
       "Papua New Guinea University of Techn           8.33\n",
       "University of Goroka                           5.90\n",
       "Datec Learning Center - Port Moresby           5.68\n",
       "IBSUniversity                                  4.65\n",
       "Acatech Aviation College                       4.14\n",
       "Divine Word University - Madang camp           3.42\n",
       "Don Bosco Technological Institute - DB         3.28\n",
       "Name: INSTITUTION, dtype: float64"
      ]
     },
     "execution_count": 26,
     "metadata": {},
     "output_type": "execute_result"
    }
   ],
   "source": [
    "#The distribution of the top ten institutions with most intakes in terms of percentage\n",
    "round(noss['INSTITUTION'].value_counts(normalize=True).head(10)*100, 2)"
   ]
  },
  {
   "cell_type": "code",
   "execution_count": 30,
   "id": "ca00f8e9",
   "metadata": {},
   "outputs": [
    {
     "data": {
      "text/plain": [
       "Text(0.5, 1.0, 'The top ten institutions with the most selected students ')"
      ]
     },
     "execution_count": 30,
     "metadata": {},
     "output_type": "execute_result"
    },
    {
     "data": {
      "image/png": "[encoded data removed]",
      "text/plain": [
       "<Figure size 1440x576 with 1 Axes>"
      ]
     },
     "metadata": {
      "needs_background": "light"
     },
     "output_type": "display_data"
    }
   ],
   "source": [
    "top_ten = noss['INSTITUTION'].value_counts().head(10).index\n",
    "\n",
    "noss_top_ten = noss[noss['INSTITUTION'].isin(top_ten)]\n",
    "\n",
    "plt.figure(figsize=(20,8))\n",
    "plt.xticks(rotation = 20, fontsize=10)\n",
    "\n",
    "sns.countplot(data = noss_top_ten, x='INSTITUTION', palette='magma')\n",
    "plt.title('The top ten institutions with the most selected students ', fontdict={'fontsize': 16}, )"
   ]
  },
  {
   "cell_type": "code",
   "execution_count": 31,
   "id": "3ae06b51",
   "metadata": {},
   "outputs": [
    {
     "data": {
      "text/plain": [
       "Text(0.5, 1.0, 'The distribution of Gender in the top ten institutions with the most selected students')"
      ]
     },
     "execution_count": 31,
     "metadata": {},
     "output_type": "execute_result"
    },
    {
     "data": {
      "image/png": "[encoded data removed]",
      "text/plain": [
       "<Figure size 1440x576 with 1 Axes>"
      ]
     },
     "metadata": {
      "needs_background": "light"
     },
     "output_type": "display_data"
    }
   ],
   "source": [
    "plt.figure(figsize=(20,8))\n",
    "plt.xticks(rotation = 20, fontsize=10)\n",
    "sns.countplot(data = noss_top_ten, x='INSTITUTION', hue='GENDER', palette='magma')\n",
    "plt.title('The distribution of Gender in the top ten institutions with the most selected students', fontdict={'fontsize': 16})"
   ]
  },
  {
   "cell_type": "code",
   "execution_count": 32,
   "id": "9a7703cd",
   "metadata": {},
   "outputs": [
    {
     "data": {
      "text/plain": [
       "NON-TESAS: Diploma in Aircraft Maintenance Engineering    283\n",
       "Business & Management Foundation Year                     260\n",
       "Science Foundation Year                                   225\n",
       "NON TESAS: Diploma in Management                          220\n",
       "Diploma in Business Accounting                            220\n",
       "Diploma in Business Management                            220\n",
       "Diploma in Information Communication & Technology         220\n",
       "NON TESAS: Diploma in Accounting                          220\n",
       "NON TESAS: Diploma in Human Resource Management           220\n",
       "NON TESAS: Diploma in Information Technology              220\n",
       "Name: PROGRAMME, dtype: int64"
      ]
     },
     "execution_count": 32,
     "metadata": {},
     "output_type": "execute_result"
    }
   ],
   "source": [
    "# The programs with the most number of students selected to\n",
    "noss_top_ten['PROGRAMME'].value_counts().head(10)"
   ]
  },
  {
   "cell_type": "code",
   "execution_count": 33,
   "id": "aaa9c3ca",
   "metadata": {},
   "outputs": [
    {
     "name": "stdout",
     "output_type": "stream",
     "text": [
      "   GENDER                    PROGRAMME  Count\n",
      "73      F  Diploma in Business Studies    244\n",
      "    GENDER                                          PROGRAMME  Count\n",
      "315      M  NON-TESAS: Diploma in Aircraft Maintenance Eng...    203\n"
     ]
    }
   ],
   "source": [
    "# the programmes with the most number of males and females respectively\n",
    "noss_by_gender = noss.groupby(['GENDER', 'PROGRAMME']).size().reset_index(name = 'Count')\n",
    "\n",
    "programme_for_females = noss_by_gender[noss_by_gender['Count'] == noss_by_gender['Count'].max()]\n",
    "\n",
    "noss_by_gender_male = noss_by_gender[noss_by_gender['GENDER']=='M']\n",
    "\n",
    "programme_for_males = noss_by_gender_male[noss_by_gender_male['Count'] == noss_by_gender_male['Count'].max()]\n",
    "print(programme_for_females)\n",
    "print(programme_for_males)"
   ]
  },
  {
   "cell_type": "code",
   "execution_count": 35,
   "id": "dc437717",
   "metadata": {},
   "outputs": [
    {
     "data": {
      "text/html": [
       "<div>\n",
       "<style scoped>\n",
       "    .dataframe tbody tr th:only-of-type {\n",
       "        vertical-align: middle;\n",
       "    }\n",
       "\n",
       "    .dataframe tbody tr th {\n",
       "        vertical-align: top;\n",
       "    }\n",
       "\n",
       "    .dataframe thead th {\n",
       "        text-align: right;\n",
       "    }\n",
       "</style>\n",
       "<table border=\"1\" class=\"dataframe\">\n",
       "  <thead>\n",
       "    <tr style=\"text-align: right;\">\n",
       "      <th></th>\n",
       "      <th>INSTITUTION</th>\n",
       "      <th>PROGRAMME</th>\n",
       "      <th>Count</th>\n",
       "    </tr>\n",
       "  </thead>\n",
       "  <tbody>\n",
       "    <tr>\n",
       "      <th>0</th>\n",
       "      <td>Acatech Aviation College</td>\n",
       "      <td>NON-TESAS: Diploma in Aircraft Maintenance Eng...</td>\n",
       "      <td>283</td>\n",
       "    </tr>\n",
       "  </tbody>\n",
       "</table>\n",
       "</div>"
      ],
      "text/plain": [
       "                INSTITUTION  \\\n",
       "0  Acatech Aviation College   \n",
       "\n",
       "                                           PROGRAMME  Count  \n",
       "0  NON-TESAS: Diploma in Aircraft Maintenance Eng...    283  "
      ]
     },
     "execution_count": 35,
     "metadata": {},
     "output_type": "execute_result"
    }
   ],
   "source": [
    "# the programme with the most number of selected students \n",
    "noss_by_in_pro = noss.groupby(['INSTITUTION', 'PROGRAMME']).size().reset_index(name = 'Count')\n",
    "\n",
    "noss_by_in_pro[noss_by_in_pro['Count']== noss_by_in_pro['Count'].max()]"
   ]
  },
  {
   "cell_type": "code",
   "execution_count": 39,
   "id": "9f4a8475",
   "metadata": {},
   "outputs": [],
   "source": [
    "# creating a column for TESAS programs (True or False)\n",
    "noss['TESAS'] = noss['PROGRAMME'].apply(lambda x: False if 'tesas' in x.lower() else True)"
   ]
  },
  {
   "cell_type": "code",
   "execution_count": 40,
   "id": "ad9e2da6",
   "metadata": {},
   "outputs": [],
   "source": [
    "# filtering the dataset to have only TESAS programs based on the column created above\n",
    "noss_tesas = noss[noss['TESAS']==True]"
   ]
  },
  {
   "cell_type": "code",
   "execution_count": 41,
   "id": "b804ee2e",
   "metadata": {},
   "outputs": [
    {
     "data": {
      "text/plain": [
       "Diploma in Business Studies              445\n",
       "Diploma in Primary Teaching              369\n",
       "Business & Management Foundation Year    260\n",
       "Diploma in Business Accounting           233\n",
       "Diploma in Business Management           229\n",
       "Name: PROGRAMME, dtype: int64"
      ]
     },
     "execution_count": 41,
     "metadata": {},
     "output_type": "execute_result"
    }
   ],
   "source": [
    "# TESAS programmes wiith the most number of selections\n",
    "noss_tesas['PROGRAMME'].value_counts().head(5)"
   ]
  },
  {
   "cell_type": "code",
   "execution_count": 42,
   "id": "a20c70e5",
   "metadata": {},
   "outputs": [
    {
     "data": {
      "text/plain": [
       "Diploma in Business Studies                                                  201\n",
       "Diploma in Primary Teaching                                                  199\n",
       "Business & Management Foundation Year                                        158\n",
       "Science Foundation Year                                                      146\n",
       "TTC Vehicle Trade                                                            121\n",
       "                                                                            ... \n",
       "STAT-P REQUIRED! Bachelor of Education (Secondary-Science)                     1\n",
       "Bachelor of Arts (Social and Religious Studies)                                1\n",
       "National Certificates in Metal Fabrication & Welding                           1\n",
       "STAT-P REQUIRED! Bachelor of Science (Environmental Science and Mathemati      1\n",
       "STAT-P REQUIRED! Diploma of Business Accounting (Pre-service)                  1\n",
       "Name: PROGRAMME, Length: 172, dtype: int64"
      ]
     },
     "execution_count": 42,
     "metadata": {},
     "output_type": "execute_result"
    }
   ],
   "source": [
    "# tesas programme with the most number of males\n",
    "noss_tesas_male = noss_tesas[noss_tesas['GENDER']=='M']\n",
    "\n",
    "noss_tesas_male['PROGRAMME'].value_counts()"
   ]
  },
  {
   "cell_type": "code",
   "execution_count": 43,
   "id": "3de5f41b",
   "metadata": {},
   "outputs": [
    {
     "data": {
      "text/plain": [
       "Business & Management Foundation Year                           260\n",
       "Science Foundation Year                                         225\n",
       "STAT-P REQUIRED!                                                187\n",
       "STAT-P REQUIRED! Bachelor of Science Education (Pre-service)     88\n",
       "STAT-P REQUIRED! Bachelor of Business in Accountancy             80\n",
       "Name: PROGRAMME, dtype: int64"
      ]
     },
     "execution_count": 43,
     "metadata": {},
     "output_type": "execute_result"
    }
   ],
   "source": [
    "# the data is quite messy here\n",
    "# the programmes offered in the top five universities with the most number of students selected\n",
    "noss_by_uni['PROGRAMME'].value_counts().head(5)"
   ]
  },
  {
   "cell_type": "code",
   "execution_count": 44,
   "id": "5d0fbeaf",
   "metadata": {},
   "outputs": [
    {
     "data": {
      "text/plain": [
       "Text(0.5, 1.0, 'The distribution of gender in the top five universities in PNG')"
      ]
     },
     "execution_count": 44,
     "metadata": {},
     "output_type": "execute_result"
    },
    {
     "data": {
      "image/png": "[encoded data removed]",
      "text/plain": [
       "<Figure size 1440x576 with 1 Axes>"
      ]
     },
     "metadata": {
      "needs_background": "light"
     },
     "output_type": "display_data"
    }
   ],
   "source": [
    "# distibution of gender with respect to the top five universities in PNG\n",
    "plt.figure(figsize= (20,8))\n",
    "plt.xticks(rotation = 40, fontsize=12)\n",
    "sns.countplot(data = noss_by_uni, x='INSTITUTION', hue='GENDER', palette= 'magma')\n",
    "plt.title('The distribution of gender in the top five universities in PNG', fontdict = {'fontsize': 16})"
   ]
  },
  {
   "cell_type": "code",
   "execution_count": 54,
   "id": "61129053",
   "metadata": {},
   "outputs": [
    {
     "name": "stdout",
     "output_type": "stream",
     "text": [
      "University of Papua New Guinea\n",
      " M    60.0\n",
      "F    40.0\n",
      "Name: GENDER, dtype: float64 2\n",
      "PNG University of Technology\n",
      " M    0.56\n",
      "F    0.44\n",
      "Name: GENDER, dtype: float64\n"
     ]
    }
   ],
   "source": [
    "#The distribution of genders in UPNG and UOT\n",
    "noss_upng = noss_by_uni[noss_by_uni['INSTITUTION']=='University of Papua New Guinea']\n",
    "noss_uot = noss_by_uni[noss_by_uni['INSTITUTION']=='Papua New Guinea University of Techn']\n",
    "\n",
    "print('University of Papua New Guinea\\n', round(noss_upng['GENDER'].value_counts(normalize=True)*100), 2)\n",
    "print('PNG University of Technology\\n',  round(noss_uot['GENDER'].value_counts(normalize=True*100),2))"
   ]
  },
  {
   "cell_type": "code",
   "execution_count": 52,
   "id": "5f90c33b",
   "metadata": {},
   "outputs": [
    {
     "data": {
      "text/plain": [
       "Port Moresby National High               168\n",
       "Sogeri National School of Excellence     150\n",
       "Mt. Hagen Secondary                      126\n",
       "Aiyura National High                     119\n",
       "Busu Secondary                            99\n",
       "Kerevat National School of Excellence     97\n",
       "Lae Secondary                             91\n",
       "Passam National High                      82\n",
       "Wawin National School of Excellenceee     79\n",
       "Goroka Secondary School                   75\n",
       "Name: SCHOOL, dtype: int64"
      ]
     },
     "execution_count": 52,
     "metadata": {},
     "output_type": "execute_result"
    }
   ],
   "source": [
    "# the 10 seconday/high schools with the most number of selected students to the top five universities in PNG\n",
    "noss_by_uni['SCHOOL'].value_counts().head(10)"
   ]
  },
  {
   "cell_type": "code",
   "execution_count": 53,
   "id": "b4c7c1ff",
   "metadata": {},
   "outputs": [
    {
     "data": {
      "text/plain": [
       "Mt. Hagen Secondary                     308\n",
       "Goroka Secondary School                 266\n",
       "Sogeri National School of Excellence    232\n",
       "Port Moresby National High              225\n",
       "Lae Secondary                           220\n",
       "Name: SCHOOL, dtype: int64"
      ]
     },
     "execution_count": 53,
     "metadata": {},
     "output_type": "execute_result"
    }
   ],
   "source": [
    "# the five secondary/high schools with the most number of selected students to tertiary institutions\n",
    "noss['SCHOOL'].value_counts().head(5)"
   ]
  },
  {
   "cell_type": "code",
   "execution_count": null,
   "id": "0bd6acf3",
   "metadata": {},
   "outputs": [],
   "source": []
  }
 ],
 "metadata": {
  "kernelspec": {
   "display_name": "Python 3 (ipykernel)",
   "language": "python",
   "name": "python3"
  },
  "language_info": {
   "codemirror_mode": {
    "name": "ipython",
    "version": 3
   },
   "file_extension": ".py",
   "mimetype": "text/x-python",
   "name": "python",
   "nbconvert_exporter": "python",
   "pygments_lexer": "ipython3",
   "version": "3.9.7"
  }
 },
 "nbformat": 4,
 "nbformat_minor": 5
}
